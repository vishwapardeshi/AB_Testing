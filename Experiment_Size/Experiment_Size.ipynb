{
  "nbformat": 4,
  "nbformat_minor": 0,
  "metadata": {
    "colab": {
      "name": "Experiment_Size.ipynb",
      "provenance": []
    },
    "kernelspec": {
      "name": "python3",
      "display_name": "Python 3"
    }
  },
  "cells": [
    {
      "cell_type": "markdown",
      "metadata": {
        "id": "0VH1aIMJX8-4",
        "colab_type": "text"
      },
      "source": [
        "# A/B Test - Experiment Size\n",
        "\n",
        "We can use the knowledge of our desired practical significance boundary to plan out our experiment. By knowing how many observations we need in order to detect our desired effect to our desired level of reliability, we can see how long we would need to run our experiment and whether or not it is feasible.\n",
        "\n",
        "Let's use consider we have a baseline click-through rate of 10% and want to see a manipulation increase this baseline to 12%. How many observations would we need in each group in order to detect this change with power $1-\\beta = .80$ (i.e. detect the 2% absolute increase 80% of the time), at a Type I error rate of $\\alpha = .05$?\n"
      ]
    },
    {
      "cell_type": "code",
      "metadata": {
        "id": "sToDkdvQMk5U",
        "colab_type": "code",
        "colab": {}
      },
      "source": [
        "import numpy as np\n",
        "import scipy.stats as stats\n",
        "\n",
        "import matplotlib.pyplot as plt\n",
        "% matplotlib inline"
      ],
      "execution_count": 1,
      "outputs": []
    },
    {
      "cell_type": "markdown",
      "metadata": {
        "id": "f_LdH_6cbrVd",
        "colab_type": "text"
      },
      "source": [
        "# Method 1: Trial and Error\n",
        "One way we could solve this is through trial and error. Every sample size will have a level of power associated with it; testing multiple sample sizes will gradually allow us to narrow down the minimum sample size required to obtain our desired power level. This isn't a particularly efficient method, but it can provide an intuition for how experiment sizing works.\n",
        "\n",
        "Fill in the power() function below following these steps:\n",
        "\n",
        "1. Under the null hypothesis, we should have a critical value for which the Type I error rate is at our desired alpha level.\n",
        "  * se_null: Compute the standard deviation for the difference in proportions under the null hypothesis for our two groups. The base probability is given by p_null. Remember that the variance of the difference distribution is the sum of the variances for the individual distributions, and that each group is assigned n observations.\n",
        "  * null_dist: To assist in re-use, this should be a scipy norm object. Specify the center and standard deviation of the normal distribution using the \"loc\" and \"scale\" arguments, respectively.\n",
        "  * p_crit: Compute the critical value of the distribution that would cause us to reject the null hypothesis. One of the methods of the null_dist object will help you obtain this value (passing in some function of our desired error rate alpha).\n",
        "2. The power is the proportion of the distribution under the alternative hypothesis that is past that previously-obtained critical value.\n",
        "  * se_alt: Now it's time to make computations in the other direction. This will be standard deviation of differences under the desired detectable difference. Note that the individual distributions will have different variances now: one with p_null probability of success, and the other with p_alt probability of success.\n",
        "  * alt_dist: This will be a scipy norm object like above. Be careful of the \"loc\" argument in this one. The way the power function is set up, it expects p_alt to be greater than p_null, for a positive difference.\n",
        "  * beta: Beta is the probability of a Type-II error, or the probability of failing to reject the null for a particular non-null state. That means you should make use of alt_dist and p_crit here!\n",
        "\n",
        "The second half of the function creates a visualization of the distribution of differences for the null case and for the desired detectable difference."
      ]
    },
    {
      "cell_type": "code",
      "metadata": {
        "id": "j1-EPWtZboEp",
        "colab_type": "code",
        "colab": {}
      },
      "source": [
        "def power(p_null, p_alt, n, alpha = .05, plot = True):\n",
        "    \"\"\"\n",
        "    Compute the power of detecting the difference in two populations with \n",
        "    different proportion parameters, given a desired alpha rate.\n",
        "    \n",
        "    Input parameters:\n",
        "        p_null: base success rate under null hypothesis\n",
        "        p_alt : desired success rate to be detected, must be larger than\n",
        "                p_null\n",
        "        n     : number of observations made in each group\n",
        "        alpha : Type-I error rate\n",
        "        plot  : boolean for whether or not a plot of distributions will be\n",
        "                created\n",
        "    \n",
        "    Output value:\n",
        "        power : Power to detect the desired difference, under the null.\n",
        "    \"\"\"\n",
        "    \n",
        "    # Compute the power\n",
        "    se_null = np.sqrt((p_null * (1-p_null) + p_null * (1-p_null)) / n)\n",
        "    null_dist = stats.norm(loc = 0, scale = se_null)\n",
        "    p_crit = null_dist.ppf(1 - alpha)\n",
        "    \n",
        "    se_alt  = np.sqrt((p_null * (1-p_null) + p_alt  * (1-p_alt) ) / n)\n",
        "    alt_dist = stats.norm(loc = p_alt - p_null, scale = se_alt)\n",
        "    beta = alt_dist.cdf(p_crit)\n",
        "    \n",
        "    if plot:\n",
        "        # Compute distribution heights\n",
        "        low_bound = null_dist.ppf(.01)\n",
        "        high_bound = alt_dist.ppf(.99)\n",
        "        x = np.linspace(low_bound, high_bound, 201)\n",
        "        y_null = null_dist.pdf(x)\n",
        "        y_alt = alt_dist.pdf(x)\n",
        "\n",
        "        # Plot the distributions\n",
        "        plt.plot(x, y_null)\n",
        "        plt.plot(x, y_alt)\n",
        "        plt.vlines(p_crit, 0, np.amax([null_dist.pdf(p_crit), alt_dist.pdf(p_crit)]),\n",
        "                   linestyles = '--')\n",
        "        plt.fill_between(x, y_null, 0, where = (x >= p_crit), alpha = .5)\n",
        "        plt.fill_between(x, y_alt , 0, where = (x <= p_crit), alpha = .5)\n",
        "        \n",
        "        plt.legend(['null','alt'])\n",
        "        plt.xlabel('difference')\n",
        "        plt.ylabel('density')\n",
        "        plt.show()\n",
        "    \n",
        "    # return power\n",
        "    return (1 - beta)"
      ],
      "execution_count": 2,
      "outputs": []
    },
    {
      "cell_type": "code",
      "metadata": {
        "id": "yIiM4w1HcCzR",
        "colab_type": "code",
        "colab": {
          "base_uri": "https://localhost:8080/",
          "height": 294
        },
        "outputId": "7e0a229b-1843-42e2-c90c-795922973813"
      },
      "source": [
        "power(.1, .12, 1000)"
      ],
      "execution_count": 3,
      "outputs": [
        {
          "output_type": "display_data",
          "data": {
            "image/png": "[encoded data removed]",
            "text/plain": [
              "<Figure size 432x288 with 1 Axes>"
            ]
          },
          "metadata": {
            "tags": [],
            "needs_background": "light"
          }
        },
        {
          "output_type": "execute_result",
          "data": {
            "text/plain": [
              "0.44122379261151545"
            ]
          },
          "metadata": {
            "tags": []
          },
          "execution_count": 3
        }
      ]
    },
    {
      "cell_type": "markdown",
      "metadata": {
        "id": "iBiTVJJKcLa6",
        "colab_type": "text"
      },
      "source": [
        "# Method 2: Analytic Solution\n",
        "\n",
        "Now that we've got some intuition for power by using trial and error, we can now approach a closed-form solution for computing a minimum experiment size. The key point to notice is that, for an $\\alpha$ and $\\beta$ both < .5, the critical value for determining statistical significance will fall between our null click-through rate and our alternative, desired click-through rate. So, the difference between $p_0$ and $p_1$ can be subdivided into the distance from $p_0$ to the critical value $p^*$ and the distance from $p^*$ to $p_1$.\n"
      ]
    },
    {
      "cell_type": "code",
      "metadata": {
        "id": "FfuQq5SScHTp",
        "colab_type": "code",
        "colab": {}
      },
      "source": [
        "def experiment_size(p_null, p_alt, alpha = .05, beta = .20):\n",
        "    \"\"\"\n",
        "    Compute the minimum number of samples needed to achieve a desired power\n",
        "    level for a given effect size.\n",
        "    \n",
        "    Input parameters:\n",
        "        p_null: base success rate under null hypothesis\n",
        "        p_alt : desired success rate to be detected\n",
        "        alpha : Type-I error rate\n",
        "        beta  : Type-II error rate\n",
        "    \n",
        "    Output value:\n",
        "        n : Number of samples required for each group to obtain desired power\n",
        "    \"\"\"\n",
        "    \n",
        "    # Get necessary z-scores and standard deviations (@ 1 obs per group)\n",
        "    z_null = stats.norm.ppf(1 - alpha)\n",
        "    z_alt  = stats.norm.ppf(beta)\n",
        "    sd_null = np.sqrt(p_null * (1-p_null) + p_null * (1-p_null))\n",
        "    sd_alt  = np.sqrt(p_null * (1-p_null) + p_alt  * (1-p_alt) )\n",
        "    \n",
        "    # Compute and return minimum sample size\n",
        "    p_diff = p_alt - p_null\n",
        "    n = ((z_null*sd_null - z_alt*sd_alt) / p_diff) ** 2\n",
        "    return np.ceil(n)"
      ],
      "execution_count": 5,
      "outputs": []
    },
    {
      "cell_type": "code",
      "metadata": {
        "id": "oEAz1KUJcSeG",
        "colab_type": "code",
        "colab": {
          "base_uri": "https://localhost:8080/",
          "height": 32
        },
        "outputId": "c13c2d4a-32fe-4b49-adbb-8afd647a75eb"
      },
      "source": [
        "experiment_size(.1, .12)"
      ],
      "execution_count": 6,
      "outputs": [
        {
          "output_type": "execute_result",
          "data": {
            "text/plain": [
              "2863.0"
            ]
          },
          "metadata": {
            "tags": []
          },
          "execution_count": 6
        }
      ]
    },
    {
      "cell_type": "markdown",
      "metadata": {
        "id": "hDWjDWUocYKn",
        "colab_type": "text"
      },
      "source": [
        "The example explored above is a one-tailed test, with the alternative value greater than the null. The power computations performed in the first part will not work if the alternative proportion is greater than the null, e.g. detecting a proportion parameter of 0.88 against a null of 0.9. You might want to try to rewrite the code to handle that case! The same issue should not show up for the second approach, where we directly compute the sample size.\n",
        "\n",
        "If you find that you need to do a two-tailed test, you should pay attention to two main things. First of all, the \"alpha\" parameter needs to account for the fact that the rejection region is divided into two areas. Secondly, you should perform the computation based on the worst-case scenario, the alternative case with the highest variability. Since, for the binomial, variance is highest when $p = .5$, decreasing as $p$ approaches 0 or 1, you should choose the alternative value that is closest to .5 as your reference when computing the necessary sample size.\n",
        "\n",
        "Note as well that the above methods only perform sizing for statistical significance, and do not take into account practical significance. One thing that should be realized is that if the true size of the experimental effect is the same as the desired practical significance level, then it's a coin flip whether the mean will be above or below the practical significance bound. This also doesn't even consider how a confidence interval might interact with that bound. In a way, experiment sizing is a way of checking about whether or not you'll be able to get what you want from running an experiment, rather than checking if you'll get what you need."
      ]
    },
    {
      "cell_type": "code",
      "metadata": {
        "id": "a7UXDQokcVfc",
        "colab_type": "code",
        "colab": {
          "base_uri": "https://localhost:8080/",
          "height": 65
        },
        "outputId": "431ef54a-3e5c-4683-efa7-96c0ca3d6a5c"
      },
      "source": [
        "# example of using statsmodels for sample size calculation\n",
        "from statsmodels.stats.power import NormalIndPower\n",
        "from statsmodels.stats.proportion import proportion_effectsize\n",
        "\n",
        "# leave out the \"nobs\" parameter to solve for it\n",
        "NormalIndPower().solve_power(effect_size = proportion_effectsize(.12, .1), alpha = .05, power = 0.8,\n",
        "                             alternative = 'larger')"
      ],
      "execution_count": 7,
      "outputs": [
        {
          "output_type": "stream",
          "text": [
            "/usr/local/lib/python3.6/dist-packages/statsmodels/tools/_testing.py:19: FutureWarning: pandas.util.testing is deprecated. Use the functions in the public API at pandas.testing instead.\n",
            "  import pandas.util.testing as tm\n"
          ],
          "name": "stderr"
        },
        {
          "output_type": "execute_result",
          "data": {
            "text/plain": [
              "3020.515856462414"
            ]
          },
          "metadata": {
            "tags": []
          },
          "execution_count": 7
        }
      ]
    },
    {
      "cell_type": "markdown",
      "metadata": {
        "id": "MgPQfz6Ice4f",
        "colab_type": "text"
      },
      "source": [
        "Reference: Udacity"
      ]
    }
  ]
}